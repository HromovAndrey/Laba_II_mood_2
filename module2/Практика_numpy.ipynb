{
  "nbformat": 4,
  "nbformat_minor": 0,
  "metadata": {
    "colab": {
      "provenance": [],
      "include_colab_link": true
    },
    "kernelspec": {
      "name": "python3",
      "display_name": "Python 3"
    },
    "language_info": {
      "name": "python"
    }
  },
  "cells": [
    {
      "cell_type": "markdown",
      "metadata": {
        "id": "view-in-github",
        "colab_type": "text"
      },
      "source": [
        "<a href=\"https://colab.research.google.com/github/HromovAndrey/Laba_II_mood_2/blob/main/module2/%D0%9F%D1%80%D0%B0%D0%BA%D1%82%D0%B8%D0%BA%D0%B0_numpy.ipynb\" target=\"_parent\"><img src=\"https://colab.research.google.com/assets/colab-badge.svg\" alt=\"Open In Colab\"/></a>"
      ]
    },
    {
      "cell_type": "markdown",
      "source": [
        "Імпортуйте модуль numpy"
      ],
      "metadata": {
        "id": "rIioSM27QJ8x"
      }
    },
    {
      "cell_type": "code",
      "execution_count": 1,
      "metadata": {
        "id": "rDtfBq8ANBhL"
      },
      "outputs": [],
      "source": [
        "import numpy as np"
      ]
    },
    {
      "cell_type": "markdown",
      "source": [
        "# Завдання 1\n",
        "Створіть масив з елементами від 1 до 12. Виведіть розмір та тип масиву"
      ],
      "metadata": {
        "id": "npT_FnlcNwke"
      }
    },
    {
      "cell_type": "code",
      "source": [
        "y = np.arange(1, 13)\n",
        "print(y)\n",
        "print(y.size)\n",
        "print(y.dtype)"
      ],
      "metadata": {
        "id": "02EdQMKlOZHr",
        "outputId": "a426094a-9e42-4b19-ec6c-0b8417fc35ad",
        "colab": {
          "base_uri": "https://localhost:8080/"
        }
      },
      "execution_count": 2,
      "outputs": [
        {
          "output_type": "stream",
          "name": "stdout",
          "text": [
            "[ 1  2  3  4  5  6  7  8  9 10 11 12]\n",
            "12\n",
            "int64\n"
          ]
        }
      ]
    },
    {
      "cell_type": "markdown",
      "source": [
        "# Завдання 2\n",
        "Зробіть на основі попереднього масиву матрицю з 4 стовчиками. Змініть тип даних матриці на float32. Виведіть транспоновану матрицю."
      ],
      "metadata": {
        "id": "HH8hOwVhNxWE"
      }
    },
    {
      "cell_type": "code",
      "source": [
        "y = np.arange(1, 13)\n",
        "matrix = y.reshape((3, 4))\n",
        "matrix = matrix.astype(np.float32)\n",
        "transposed_matrix = matrix.T\n",
        "print(transposed_matrix)\n",
        "print(transposed_matrix.dtype)"
      ],
      "metadata": {
        "id": "4jYqwTycOYbN",
        "outputId": "f9670921-b59d-4029-80bd-c26496f81ec9",
        "colab": {
          "base_uri": "https://localhost:8080/"
        }
      },
      "execution_count": 4,
      "outputs": [
        {
          "output_type": "stream",
          "name": "stdout",
          "text": [
            "[[ 1.  5.  9.]\n",
            " [ 2.  6. 10.]\n",
            " [ 3.  7. 11.]\n",
            " [ 4.  8. 12.]]\n",
            "float32\n"
          ]
        }
      ]
    },
    {
      "cell_type": "markdown",
      "source": [
        "#Завдання 3\n",
        "Створіть матрицю 8х8 з 0 та 1 розміщеними в шаховому порядку"
      ],
      "metadata": {
        "id": "T35Vjkz1Nxez"
      }
    },
    {
      "cell_type": "code",
      "source": [
        "\n",
        "x = np.zeros((8, 8), dtype=int)\n",
        "\n",
        "x[1::2, ::2] = 1\n",
        "x[::2, 1::2] = 1\n",
        "\n",
        "print(x)\n"
      ],
      "metadata": {
        "id": "mrbnfiPQPu_n",
        "outputId": "c56c8bfa-d35e-4a5b-bcf9-97a31b2ef4d7",
        "colab": {
          "base_uri": "https://localhost:8080/"
        }
      },
      "execution_count": 5,
      "outputs": [
        {
          "output_type": "stream",
          "name": "stdout",
          "text": [
            "[[0 1 0 1 0 1 0 1]\n",
            " [1 0 1 0 1 0 1 0]\n",
            " [0 1 0 1 0 1 0 1]\n",
            " [1 0 1 0 1 0 1 0]\n",
            " [0 1 0 1 0 1 0 1]\n",
            " [1 0 1 0 1 0 1 0]\n",
            " [0 1 0 1 0 1 0 1]\n",
            " [1 0 1 0 1 0 1 0]]\n"
          ]
        }
      ]
    },
    {
      "cell_type": "markdown",
      "source": [
        "# Завдання 4\n",
        "Створіть випадкову матрицю 4х3. Знайдіть суму елементів в стовпчиках\\рядках\\усій матриці"
      ],
      "metadata": {
        "id": "g87KAY1nNxoy"
      }
    },
    {
      "cell_type": "code",
      "source": [
        "i = np.random.randint(0, 10,(4,3))\n",
        "sum_columns = np.sum(i, axis=0)\n",
        "sum_rows = np.sum(i, axis=1)\n",
        "sum_total = np.sum(i)\n",
        "print(i)\n",
        "print(sum_columns)\n",
        "print(sum_rows)\n",
        "print(sum_total)"
      ],
      "metadata": {
        "id": "RGA3022VQIZV",
        "outputId": "6af1860a-1987-4df3-8f55-4b3d68d2f0e2",
        "colab": {
          "base_uri": "https://localhost:8080/"
        }
      },
      "execution_count": 9,
      "outputs": [
        {
          "output_type": "stream",
          "name": "stdout",
          "text": [
            "[[1 7 4]\n",
            " [5 7 2]\n",
            " [8 4 2]\n",
            " [4 3 0]]\n",
            "[18 21  8]\n",
            "[12 14 14  7]\n",
            "47\n"
          ]
        }
      ]
    },
    {
      "cell_type": "markdown",
      "source": [
        "# Завдання 5\n",
        "У попередній матриці від кожного рядка відніміть максимальний елемент цього рядка"
      ],
      "metadata": {
        "id": "AGH0TVVBNxx9"
      }
    },
    {
      "cell_type": "code",
      "source": [
        "i = np.random.randint(0, 10,(4,3))\n",
        "matrix_minus_max = i - np.max(i, axis=1, keepdims=True)\n",
        "print(matrix_minus_max)"
      ],
      "metadata": {
        "id": "TVYjbsBDQHTU",
        "outputId": "788f867b-7d47-4566-db14-a32268fea442",
        "colab": {
          "base_uri": "https://localhost:8080/"
        }
      },
      "execution_count": 11,
      "outputs": [
        {
          "output_type": "stream",
          "name": "stdout",
          "text": [
            "[[-9 -6  0]\n",
            " [-3  0 -7]\n",
            " [-5 -1  0]\n",
            " [-1  0 -1]]\n"
          ]
        }
      ]
    },
    {
      "cell_type": "markdown",
      "source": [
        "# Завдання 6\n",
        "Є дані про вагу контейнерів для перевезення на кораблі: дрібний - 5 т,  малий - 10 т, середній - 25 т, великий - 40 т. На кораблі розміщено 20 дрібних, 5 малих, 10 середніх та 4 великих контейнерів. Знайти масу вантажу."
      ],
      "metadata": {
        "id": "cH8WhnsjQsXi"
      }
    },
    {
      "cell_type": "code",
      "source": [
        "\n",
        "weight_small = 5\n",
        "weight_medium = 10\n",
        "weight_large = 25\n",
        "weight_extra_large = 40\n",
        "\n",
        "count_small = 20\n",
        "count_medium = 5\n",
        "count_large = 10\n",
        "count_extra_large = 4\n",
        "\n",
        "total_weight = (weight_small * count_small +\n",
        "                weight_medium * count_medium +\n",
        "                weight_large * count_large +\n",
        "                weight_extra_large * count_extra_large)\n",
        "\n",
        "print( total_weight)\n"
      ],
      "metadata": {
        "id": "BYrqqe9WR6g7"
      },
      "execution_count": null,
      "outputs": []
    },
    {
      "cell_type": "markdown",
      "source": [
        "# Завдання 7\n",
        "Тепер у нас декілька кораблів. Напишіть код для обчислення вантажу на кожному кораблі."
      ],
      "metadata": {
        "id": "IhdiDOh3Qrmb"
      }
    },
    {
      "cell_type": "code",
      "source": [
        "\n",
        "\n",
        "weights = {\n",
        "    'small': 5,\n",
        "    'medium': 10,\n",
        "    'large': 25,\n",
        "    'extra_large': 40\n",
        "}\n",
        "\n",
        "ships = [\n",
        "    {'small': 20, 'medium': 5, 'large': 10, 'extra_large': 4},\n",
        "    {'small': 15, 'medium': 7, 'large': 5, 'extra_large': 2},\n",
        "    {'small': 10, 'medium': 10, 'large': 15, 'extra_large': 5}\n",
        "\n",
        "]\n",
        "\n",
        "def calculate_total_weight(ship):\n",
        "    total_weight = 0\n",
        "    for container_type, count in ship.items():\n",
        "        total_weight += weights[container_type] * count\n",
        "    return total_weight\n",
        "\n",
        "for index, ship in enumerate(ships):\n",
        "    total_weight = calculate_total_weight(ship)\n",
        "    print(f'Загальна маса вантажу на кораблі {index + 1}: {total_weight} т')"
      ],
      "metadata": {
        "id": "gVUXPdFhSI95",
        "outputId": "33c83da8-3912-45d9-8c7c-7bcbd17017d4",
        "colab": {
          "base_uri": "https://localhost:8080/"
        }
      },
      "execution_count": 13,
      "outputs": [
        {
          "output_type": "stream",
          "name": "stdout",
          "text": [
            "Загальна маса вантажу на кораблі 1: 560 т\n",
            "Загальна маса вантажу на кораблі 2: 350 т\n",
            "Загальна маса вантажу на кораблі 3: 725 т\n"
          ]
        }
      ]
    }
  ]
}